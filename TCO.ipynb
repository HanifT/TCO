{
 "cells": [
  {
   "cell_type": "code",
   "execution_count": 9,
   "id": "initial_id",
   "metadata": {
    "collapsed": true,
    "ExecuteTime": {
     "end_time": "2024-02-26T01:41:18.761381Z",
     "start_time": "2024-02-26T01:41:18.707721Z"
    }
   },
   "outputs": [],
   "source": [
    "import numpy as np\n",
    "import requests\n",
    "import json\n",
    "import geopandas as gpd\n",
    "import pandas as pd\n",
    "from zipfile import ZipFile\n",
    "from io import BytesIO"
   ]
  },
  {
   "cell_type": "code",
   "execution_count": 11,
   "outputs": [
    {
     "name": "stdout",
     "output_type": "stream",
     "text": [
      "Tracts Downloaded\n",
      "Tracts Unzipped\n"
     ]
    },
    {
     "name": "stderr",
     "output_type": "stream",
     "text": [
      "/var/folders/t7/ttgj0mhj6575f72vbfx0p2_40000gn/T/ipykernel_33912/342237354.py:17: UserWarning: Geometry is in a geographic CRS. Results from 'centroid' are likely incorrect. Use 'GeoSeries.to_crs()' to re-project geometries to a projected CRS before this operation.\n",
      "\n",
      "  tracts['lon'] = tracts.geometry.centroid.x\n",
      "/var/folders/t7/ttgj0mhj6575f72vbfx0p2_40000gn/T/ipykernel_33912/342237354.py:18: UserWarning: Geometry is in a geographic CRS. Results from 'centroid' are likely incorrect. Use 'GeoSeries.to_crs()' to re-project geometries to a projected CRS before this operation.\n",
      "\n",
      "  tracts['lat'] = tracts.geometry.centroid.y\n"
     ]
    },
    {
     "name": "stdout",
     "output_type": "stream",
     "text": [
      "         GEOID         lon        lat\n",
      "0  13163960300  -82.427775  33.020095\n",
      "1  37109071201  -80.968056  35.459902\n",
      "2  25025050200  -71.035737  42.377547\n",
      "3  17031230200  -87.710082  41.911874\n",
      "4  41047001607 -122.983430  44.961583\n"
     ]
    }
   ],
   "source": [
    "# Download the Census Tract Geometries\n",
    "url = \"https://www2.census.gov/geo/tiger/GENZ2021/shp/cb_2021_us_tract_500k.zip\"\n",
    "response = requests.get(url)\n",
    "print(\"Tracts Downloaded\")\n",
    "\n",
    "# Extract the Zip File to a BytesIO object (in memory extraction)\n",
    "with ZipFile(BytesIO(response.content)) as zip_ref:\n",
    "    zip_ref.extractall(\"Data/ACS_2021/Tract_Geometries\")\n",
    "print(\"Tracts Unzipped\")\n",
    "\n",
    "# Read the Shapefile\n",
    "tract_file = \"Data/ACS_2021/Tract_Geometries/cb_2021_us_tract_500k.shp\"\n",
    "tracts = gpd.read_file(tract_file)\n",
    "\n",
    "# Create a DataFrame with Latitude and Longitude\n",
    "# We use centroid to get the central point of each tract, then split its x and y to lon and lat\n",
    "tracts['lon'] = tracts.geometry.centroid.x\n",
    "tracts['lat'] = tracts.geometry.centroid.y\n",
    "tract_locations = tracts[['GEOID', 'lon', 'lat']]\n",
    "\n",
    "# Optionally, convert the GeoDataFrame to a Pandas DataFrame if no geometry is needed\n",
    "tract_locations_df = pd.DataFrame(tract_locations)\n",
    "\n",
    "print(tract_locations_df.head())\n"
   ],
   "metadata": {
    "collapsed": false,
    "ExecuteTime": {
     "end_time": "2024-02-26T01:43:24.203103Z",
     "start_time": "2024-02-26T01:43:13.126298Z"
    }
   },
   "id": "94ae995fb0ac8aec"
  },
  {
   "cell_type": "code",
   "execution_count": 7,
   "outputs": [
    {
     "name": "stdout",
     "output_type": "stream",
     "text": [
      "Data saved for region 37, -92\n"
     ]
    }
   ],
   "source": [
    "# Example list of latitudes and longitudes for census regions\n",
    "# You'll need to replace this with your actual list/source of coordinates\n",
    "regions = [\n",
    "    {'lat': 37, 'lon': -92},\n",
    "    # Add more regions here\n",
    "]\n",
    "\n",
    "# Replace YOUR_API_KEY with your actual NREL API key\n",
    "api_key = '5NafpqgGlLOBTehX0g7wPnu6qxpYn35jGVjFBnmj'\n",
    "base_url = 'https://developer.nrel.gov/api/census_rate/v3.json'\n",
    "\n",
    "# Loop through each region and download data\n",
    "for region in regions:\n",
    "    params = {\n",
    "        'api_key': api_key,\n",
    "        'region': 'tract',\n",
    "        'lat': region['lat'],\n",
    "        'lon': region['lon'],\n",
    "    }\n",
    "    \n",
    "    response = requests.get(base_url, params=params)\n",
    "    \n",
    "    if response.status_code == 200:\n",
    "        data = response.json()\n",
    "        # Process the data or save it to a file\n",
    "        # For example, saving to a JSON file:\n",
    "        filename = f\"data_{region['lat']}_{region['lon']}.json\"\n",
    "        with open(filename, 'w') as file:\n",
    "            json.dump(data, file)\n",
    "        print(f\"Data saved for region {region['lat']}, {region['lon']}\")\n",
    "    else:\n",
    "        print(f\"Failed to download data for region {region['lat']}, {region['lon']}\")"
   ],
   "metadata": {
    "collapsed": false,
    "ExecuteTime": {
     "end_time": "2024-02-26T01:37:48.338037Z",
     "start_time": "2024-02-26T01:37:48.081671Z"
    }
   },
   "id": "e0462d03cf19d062"
  },
  {
   "cell_type": "code",
   "execution_count": null,
   "outputs": [],
   "source": [],
   "metadata": {
    "collapsed": false
   },
   "id": "46655d2a38e678da"
  }
 ],
 "metadata": {
  "kernelspec": {
   "display_name": "Python 3",
   "language": "python",
   "name": "python3"
  },
  "language_info": {
   "codemirror_mode": {
    "name": "ipython",
    "version": 2
   },
   "file_extension": ".py",
   "mimetype": "text/x-python",
   "name": "python",
   "nbconvert_exporter": "python",
   "pygments_lexer": "ipython2",
   "version": "2.7.6"
  }
 },
 "nbformat": 4,
 "nbformat_minor": 5
}
